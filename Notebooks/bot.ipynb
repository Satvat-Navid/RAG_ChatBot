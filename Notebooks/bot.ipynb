{
 "cells": [
  {
   "cell_type": "code",
   "execution_count": 5,
   "metadata": {},
   "outputs": [],
   "source": [
    "import numpy as np\n",
    "import pandas as pd\n",
    "from langchain_community.document_loaders import CSVLoader\n",
    "from langchain_text_splitters import RecursiveCharacterTextSplitter\n",
    "from sentence_transformers import SentenceTransformer\n",
    "import faiss\n",
    "from openai import OpenAI\n"
   ]
  },
  {
   "cell_type": "code",
   "execution_count": 6,
   "metadata": {},
   "outputs": [],
   "source": [
    "client = OpenAI(base_url=\"http://localhost:1234/v1\", api_key=\"not-needed\")\n",
    "embed = SentenceTransformer('bert-base-nli-mean-tokens')"
   ]
  },
  {
   "cell_type": "markdown",
   "metadata": {},
   "source": [
    "# reading file"
   ]
  },
  {
   "cell_type": "code",
   "execution_count": 7,
   "metadata": {},
   "outputs": [],
   "source": [
    "def read_doc(csv_file):\n",
    "    loader = CSVLoader(file_path=csv_file,\n",
    "        csv_args={\n",
    "        'delimiter': ',',\n",
    "        'quotechar': '\"',\n",
    "        'fieldnames': ['Link', 'content']\n",
    "    })\n",
    "    document = loader.load()\n",
    "    return document"
   ]
  },
  {
   "cell_type": "code",
   "execution_count": 8,
   "metadata": {},
   "outputs": [
    {
     "name": "stdout",
     "output_type": "stream",
     "text": [
      "Link: 1\n",
      "content: ACHIEVEMENTS  Student Awards (Extra Curricular)  Student Awards (Extra Curricular) MIRAZ 24 (Rann-Neeti 24) The MIRAZ24 (Rann-Neeti24), a sports event, was hosted at the Indian Institute of Technology (IIT), Mandi, from April 12th to April 14th, 2024. The event aimed to unite talented athletes from various institutes across the nation to compete in a variety of sports disciplines. Our colleges Volleyball (Boys & Girls), Table Tennis (Boys & Girls), Athletics (Boys & Girls), Football (Boys), Cricket (Boys), and Basketball (Girls) teams participated in this tournament. Remarkably, the AKGEC sports team clinched an impressive tally of 17 Gold, 7 Silver, and 8 Bronze medals, securing the overall champions trophy at the second position. Additionally, they achieved the overall Athletics trophy at the first position, showcasing their exceptional sporting prowess and dedication. ATHLEMA Sports Tournament 2023 (Kho-Kho: Boys) Netaji Subhash Sports Complex, Sarita Vihar has been setup by Delhi Government as Sports Academy. Our twelve member Kho-Kho college team participated in the Athleema Sports Tournament`2023 organised by Asian Education Group (AEG) and held from 04/04/2023 to 07/04/2023. We were very proud to represent our college in this tournament among various other prestigious institutions participating with more than 3000 participants in various sports like kabaddi, cricket, football etc. Prince Narula who is a famous Indian Television Actor was the Chief Guest during inauguration. There were total eight teams participating in Kho-Kho tournament. The matches were held in knockout format. Our first match was scheduled with ASB, Noida on 04/03/2023 at 3:00 pm that we won by a large margin with the score being 17 (AKGEC)- 01(ASB) in the first round and they accepted defeat without playing second round. Our Second match was scheduled against AAFT, Noida on 05/03/2023 at 1:00 pm that we won easily with the score being 12(AKGEC)- 03(AAFT) in the first round and in the second round they scored 04 (AAFT) only. We won and were placed in the finals. Our final match against IIMT, Noida on 06/04/2023 at 2:00 PM that we won easily with the score being 17(AKGEC)- 06 (IIMT) in the first round and in the second round they scored 08 (IIMT) only and with that we won the match and the Kho-Kho championship Closing ceremony was held on 7/04/23 at Asian Law College (Noida).We received certificates, medals with cash prize. Visit of Volleyball Team to Malviya National Institute of technology (MNIT, Jaipur) An Eight-member volleyball team of our college from B. tech 3rd and 4th year participated in Malviya sports Tournament 2023 held at MNIT, Jaipur w.e.f. 23/3/23 to 25/3/23. The tournament was inaugurated by Shri Ram Kumar Sehrawat a former Indian basketball player and coach of junior Indian team as Chief Guest. It was a proud moment that we were selected to participate as one among ten teams from various prestigious Institutes. The ten teams were divided on four pools and the matches were held on league cum knockout basis. Our first league match was held with University College of Engineering and Technology (UCET, Bikaner) who were the champions of last years Malviya Sports Tournament. So, we were pitted against a very strong team, However, we played well and to the best of our ability but lost by a close margin in a best of 3 games with the score being 25(AKGEC)-27(UCET) in the first set and 23(AKGEC)-25(UCET) in the second set. As four of our very good players from B. tech 2nd year could not join because of their End Semester University Exams, the result would have been different and in all probability a victory in our favour. The Second league match was to be played against NIT, Uttarakhand who did not turn up and we got a walkover victory. As a result, we were declared runners up of our pool. However, overall championship of the game was won by MNIT, Jaipur with UCET, Bikaner as the runners up. We are very thankful to our director Dr. R.K. Agarwal for allowing us to participate in this prestigious tournament. We are also thankful to our DSW Prof. V.K. Parashar and Sports Officer Mr. Pratap Singh for supporting as well as motivating us to participate in the tournament. This tournament provided us with new experience and strategies to work on our sport which will help us to perform better in the upcoming AKTU zonal and states tournament. IIT Ropar Sports Festival : AAROHAN 23 Our college had the privilege of having been invited to participate in IIT Ropar 3 Days Sports Fest: AAROHAN 23 held from 17th to 19th March 2023. It was the annual sports festival, of IIT Ropar with 10+ events organized. As many as 15 plus premium colleges/ Institutions from NIT Jalandhar, Chitkara University, Jaypee University of Information Technology (JPIT) HP, BPIT New Delhi, Shiv Nadar University Noida, HBTU Kanpur etc. had participated with IIT Ropar as the host institute. Matches were played on the league basis, except the game of football that was played on knock out basis. Basketball Girls Team played extremely well and secured 1st Runners Up position. Basketball Boys Team also did equally well and secured 2nd Runners Up position. The Badminton team won the match played against HBTU Kanpur but lost to Chitkara University. The Football team played against IIT Ropar and it turned out to be a very exciting match that was decided in last 2 minutes by a solitary goal scored by IIT Ropar. The Closing Ceremony was held on 19th evening and winners were honoured accordingly by Prof. Rajeev Ahuja, Director IIT Ropar. All the games and closing ceremony were very well organized and enjoyed by all. MANFEST VARCHASVA 23 at INDIAN INSTITUTE OF MANAGEMENT, LUCKNOW A `22 members team of Goonj Society had participated in IIM Lucknow on 9th & 11th Feb 2023 and the following events held there: (a) Halla Bol (Mono  acting) (b) Antarnad (Stage Play) Shubham Jha (3rd Year) did a mono-act based on Therapy session of a mentally ill person whereas Megha Jain (2nd Year) performed a mono-act based on Revenge taken by a mother for injustice to her daughter. Megha Jain was adjudged 1st runners up for fresh script and great acting whereas Shubham Jha got a special mention for excellent acting. Mono act competition was judged by Sh. Mir Sarwar, an actor director of repute (Bajranngi Bhaiijaan), JollyLLB2, The Family Man). In the stage play category (Antarnaad) our play `Anbhigya was based upon the Behavior of people towards HIV positive patients and the myths about the HIV AIDS. It was one of the most realistic and practical play among all the participants, with a great concluded moral value. When results of about 10 participating teams from various prestigious college / institutes were announced, our team bagged 2nd prize and 1st prize was won by SRCC (DU). The judgment was based upon the direction, screenplay, dialogue delivery, makeup-costume and time limit. Our play got full points in use of props and music, great acting & clarity in dialogue delivery. The play was judged by Saurabh Sachdeva, Actor & Actor Coach (Good Luck, Jerry, Housefull 4, Vadh). UNIFEST AT Galgotia Engineering College Team Goonj had participated in three events (monoact, open mic and film making) in Unifest 2022 at Galgotia Engineering College held on 11th and 12th April 2022. Most of the renowned colleges of Ghaziabad and Noida had also participated in the festival. Team Goonj performed exceptionally well. Shubham Jha (2nd year CSE AIML) bagged second prize in mono act. He was presented with a certificate and a cash prize of INR 700/. Continuing with the winning performance, team Goonj also won first prize in film making competition (subject : Daily routine of a college student). Team was awarded with certificate and cash prize. The filming students who won laurels were kanishk Deshwal (4th yr EC) , Lakshya Sharma (4th yr EC), Vishal Kumar (2nd yr, CSE), Devanshi Singhal (2nd yr, EN), Shubham Jha (2nd year CSE AIML), Shivam Middha (2nd year CSE). Team had also presented a play ( Ek affwah based on the mob lynching of sadhus in Palghar , Maharastra ). The play was highly applauded by the audience. Consolation Prize for Project Pollution Control & Management in Anveshna Project Competition hosted by Agastya International Foundation in association with Synopsys Students of Ajay Kumar Garg Engineeirng College (AKGEC) participated in Anveshna Project Competition during 22-24 January, 2019 at National Science Centre, New Delhi. The competition is a mentor-mentee program on engineering projects wherein projects are developed by engineering college students. School students from class VII to Class X are associated with the projects and trained by the college students on the technologies used and underlying concepts of science. During these days of competition, the projects are presented to jury members by the school going students in the presence of college students. The judgment is on the basis of level of project, utility of project in daily life, team synchronization, the quality of training given to school students by college students and queries answered by the school students. The competition is organized by Agastya International Foundation in association with Synopsis, Noida. The college has been participating in the competition wef 2016. This year 29 projects from different colleges of North India region were presented. The jury consisted of experienced academicians and industry experts. Project Name AKGEC Students Student Branch/Year Faculty Mentor School Students POLLUTION CONTROL & MANAGEMENT Mohit Rathaur Shubham Kumar Sahu Shreshtha Rathore Mridul Arora CSE 3rd Year EN 3rd Year EI 3rd Year CSE 3rd Year Mr. Deepak Rai Department of Computer Science and Engineering Mantasha ClassVIII Mohd. Kashif ClassVIII Purva Madhaymik Vidyalaya, Kaila Balak Ghaziabad JUNGLE TREE Prakhar Agarwal Apoorv Jindal Sagar Gupta Kshitij Srivastava CSE 3rd Year ECE 3rd Year CSE 3rd Year CSE 3rd Year Mr. Deepak Rai Department of Computer Science and Engineering Anam ClassVII Madiha ClassVIII Purva Madhaymik Vidyalaya, Kaila Balak Ghaziabad PURIFIER WITH PEARL MILLET Ankit Prabhakar Prakhar Dixit Akhilesh Kumar Gupta Arpit Shukla CSE 2nd Year ECE 4th Year CSE 2nd Year ECE 4th Year Dr. Inderjeet Kaur Department of Computer Science and Engineering Iqra ClassVII Aman Khan ClassVII Purva Madhaymik Vidyalaya, Kaila Balak Ghaziabad The project Pollution Control & Management won consolation prize of Rs. 5000. Consolation Prize for Project Pollution Control & Management in Anveshna Project Competition hosted by Agastya International Foundation in association with Synopsys First Position in Fash-P Event at BITS, Pilani Team Verve, the fashion society of AKGEC, once again showcased its talent during Fash-P Event at BITS, Pilani on 30-31 October, 2018. Six out of twelve teams qualified the preliminaries and made it to the finals. Team Verve won both the titles  the Best Team and the Best Wardrobe and thus stood first in the event. 5th District Badminton Championship 2018-19 Boys/Girls Ajay Kumar Garg Engineering asserts on the holistic development of its students and puts in lot of effort to make them excel in all aspects of life. An efforts in this direction was witnessed when the badminton team of our college participated in the 5th District Badminton Championship affiliated to the UP Badminton Association and the District Olympic Association, Ghaziabad. 5th district badminton championship organised by Ghaziabad Badminton Association was held during 5-9 October, 2018. The students from AKGEC participated in the championship under the categories U-19 singles boys/girls, senior singles boys/girls and senior doubles boys/girls. The students won the Gold Medal in the girls doubles and a Silver in singles, in the senior category. The U-19 girls badminton team bagged a Silver and a Bronze Medal. The boys gave a tough competition and reached to the Semi-final rounds. AKTU Zonal & State Level Activities AKTU Technical, Literary & Management Zonals Ajay Kumar Garg Engineering College always focuses on empowering students and providing students an opportunity to pursue their talents. The college organised the AKTU Technical, Literary and Management Zonals with the aim of supporting students to pursue their passions and excel in extra-curricular activities as they continue to excel academically. The zonals were hosted on 30 & 31 January, 2019. More than 19 colleges in the Ghaziabad  Modinagar zone actively participated in the two day long techno-manegerial fest. A total of 336 students, 264 boys and 72 girls, participated in 11 events that was organised by the various college societies. The various events organised were Bridge Kriti, Robowar, RoboRace, Frugal Engineering, Check your knowledge, Just a Minute, English Debate, Hindi Debate, Business plan, Coding contest and Technical poster making. Director, Dr. RK Agarwal conferred awards to the winning students and teams during the award ceremony on 31 January, 2019. The winners will be participating in the States round in Lucknow on 15-16 February, 2019. The overall championship was won by Ajay Kumar Garg Engineering College as the students bagged a total of 12 Gold Medals. The Runners Up trophy was awarded to IPEC for their amazing performance in the zonals taking home 4 Gold Medals. The event was organised under the guidance of Dean Student Welfare, Prof. V K Parashar for his valuable help and support. The event was organised and managed by the student convenors Kunal, Shivam Chaudhary, Yash Saxena and Eeshank Karnwal under the guidance of Dean Student Welfare. AKTU TECHNICAL, LITERARY & MANAGEMENT EVENTS  STATES LEVEL The winners of AKTU Tehnical, Literary and Management Zonals from Ghaziabad zone participated in Abhudya '19, AKTU States Events, organised at Centre for Advanced Studies, AKTU, Lucknow on 15 and 16 February, 2019. All the winners from the 8 zones participated in the 11 events. The event was inaugurated by Prof. Vinay Kumar Pathak, Vice Chancellor, AKTU who enumerated the importance of such events. The opening ceremony was followed by a Kathak performance by the students of CAS. The students of AKGEC participated in 5 events namely RoboRace, Just A Minute, English Debate, Coding Contest and Frugal Engineering. The students did extremely well as they competed against the best participants from each zone. The students gave tough competition and bagged two awards. Ayushi Tripathi won first prize in Just A Minute. The team of Sarthak Jauhari, Rishit Saxena and Ujjwal Gupta won first runners up award in Frugal Engineering. The event concluded with the award ceremony where the winners were felicitated with certificates and medals by Vice Chancellor, HBTU, Prof. N B Singh who congratulated all the winners. The Ghaziabad zone won the first prize in the fest with maximum number of awards. The winning trophy was awarded to AKGEC, the host of zonals event. Sports Festivals AKTU ZONAL & STATE LEVEL SPORTS MEET 2018 - 19 Ajay Kumar Garg Engineering College, Ghaziabad has always professed all-round development of students. This extra seminary of education has also given equal attention to the physical development of students in which sports are of great importance. Students of the college participated in AKTU Zonal and States Sports Competition with full enthusiasm and sportsman spirit. During the Zonals competition, organized by RKGIT from 31 October, 2018 to 2 November, 2018, 125 AKGEC students participated in 43 different sports events, team as well as individual, winning 20 Gold, 10 Silver and 7 Bronze medals. The awards were presented by the Honable Vice Chancellor of AKTU Prof. Vinay Pathak. It is a matter of pride for the College to have won the highest number of medals in the Zonals Competition as well as the Zonal Athletics Champion and Zonal Sports Champion trophies. The Gold Medalists of the Zonals competition qualified for State Level organized by BBDNITM, Lucknow held during 18-20 November, 2018. AKGEC teams, outshining all the odds inculcated zeal and enthusiasm amongst everyone and won 11 Gold, 4 Silver Medals. AKGEC won the highest number of Gold Medals in the States Competition unnder Ghaziabad Zone. The overall Athletics (Boys), Overall Athletics (Girls), Overall Team Events (Boys) and Overall Team Events (Girls) trophies was also bagged by AKGEC. This outstanding performance has been possible as a result of the motivation and the right opportunity provided to the students. Under the able guidance of Dean Student Welfare and College Sports Officer, the College Sports Organizing Head Yash Saxena (B.Tech IV Year CSE) and College Sports Captain (B.Tech IV Year EI) played a key role in administering this remarkable performance from the administration to the students' enthusiasm. AKTU ZONAL LEVEL SPORTS MEET 2017 - 18 Dr. APJ Abdul Kalam Technical University has always aimed for holistic and all-round development of their students. Apart from academics, the university also pays equal concern over the physical development of the students, and in spirit of the game the University organized ZONAL LEVEL SPORTS MEET in ABESIT which spanned from 23rd Jan 2018 to 25th Jan 2018 . AKGEC participated with full enthusiasm and gave a phenomenal performance. 103 students , including 44 Girls and 59 Boys, showed formidable skills and grabbed 11 Gold, 12 Silver and 6 Bronze medals. Gold medals were bagged in: BADMINTON INDIVIDUAL (GIRLS) BADMINTON DOUBLES (BOYS) TABLE TENNIS INDIVIDUAL (GIRLS) TABLE TENNIS DOUBLES (BOYS) TABLE TENNIS DOUBLES (GIRLS) BASKETBALL (BOYS) BASKETBALL (GIRLS) 4*400M RELAY (GIRLS) 4*100M RELAY (GIRLS) HIGH JUMP (GIRLS) JAVELIN (GIRLS) AKGEC Athletes in action. AKGEC Basketball Girls Team won the Gold medal. AKGEC Girls won the Gold medal in Relay Races. AKGEC Contingent at ABESIT Ghaziabad. AKGEC Basketball Boys Team won Gold medal. AKGEC grabbed the maximum medals in Zonals. STATE LEVEL SPORTS MEET 2017-18 All the gold medalists qualified for State Levels organized by Dr. APJ Abdul Kalam Technical University in BBDNITM, Lucknow held on 5th Feb 2018 to 7th Feb 2018. AKGEC teams, outshining all the odds inculcated zeal and enthusiasm amongst everyone and won 8 Gold, 1 Silver, 1 Bronze medals in: Gold medals were bagged in: BADMINTON INDIVIDUAL (GIRLS) BADMINTON TEAM EVENT (GIRLS) TABLE TENNIS DOUBLES (BOYS) BASKETBALL (GIRLS) 4*400M RELAY (GIRLS) 4*100M RELAY (GIRLS) JAVELIN (GIRLS) HIGH JUMP (GIRLS) Silver medal was bagged in BASKETBALL(BOYS) and BRONZE medal was bagged in TABLE TENNIS(GIRLS). AKGEC also won the most number of GOLD medals in AKTU State Sports Fest 2017-18 under GHAZIABAD ZONE. The excellent advice and guidance in all our activities by Director Sir Dr. R.K. Agarwal and Dean Student Welfare Prof. V.K. Parashar , was the reason behind the glorious victory of AKGEC in Zonal as well as State Level. Sports Officer, Mr. Pratap Singh ; Managerial Head, Shashank Singh and College Captain, Ravinder Singh worked tirelessly to bring about efficient management. BBDNITM Dignitaries meeting the AKGEC Contingent. AKGEC Basketball Boys Team after winning their first match. AKGEC Basketball Girls Team after winning their Semi-Final match. AKGEC Contingent at BBDNITM, Lucknow. AKGEC Basketball Girls Team won the Gold medal. AKGEC Basketball Boys Team receiving the Silver medal from Cabinet Minister, Shri Ashutosh Tandon. AKGEC Basketball Boys Team receiving the Gold medal from Cabinet Minister, Shri. Ashutosh Tandon. Sports Officer, Pratap Singh receiving the prize for Best OVERALL Championship Performance. Arts & Cultural Festivals ZONAL LEVEL ARTS AND CULTURAL FEST 2017-18 A creative artist is a child that refuses to die. Living up to the words Ajay Kumar Garg Engineering College always strives forth in empowering their students with creativity and imagination. An effort in this direction was witnessed when the cultural societies of the college represented the college at zonal level arts and cultural fest held at KEC GHAZIABAD on 23-24 February, 2018. AKGEC students participated in 16 events in the Zonal level competition. A group of 23 girls 43 boys and a total of 70 students participated in 16 odd events in this Zonal level competition that saw a participation in huge number from different colleges. At Zonal level Cultural Fest, Team Footprints secured 5 gold medals and silver. Euphony and Goonj won a gold and silver, whereas Taal and Verve got silver each. LIST OF EVENTS Event Position Held No of Participants Duet Dance Second 2 Group Dance Third 8 Solo Singing Second 1 Duet Singng First 2 Band Wars First 6 Skit/Play Second 10 Mimicry/Stand-up First 2 Fasion Jalwa Second 2 Mehandi Designing First 2 3-D Rangoli Second 4 Collage Making First 2 Face Painting First 2 Poster Making First 2 T-Shirt Paintng First 2 Prizes received by college in Arts Events 3-D Rangoli Making competition Taal at KEC, Ghaziabad in AKTU Cultural Zonals Taal at KEC, Ghaziabad in AKTU Cultural Zonals Prize distribution ceremony by Director KEC Goonj at KEC, Ghaziabad in AKTU Cultural Zonals Taal at KEC, Ghaziabad in AKTU Cultural Zonals T-shirt Painting competition Goonj Performance on MAZHAB at AKTU zonals Taal at KEC, Ghaziabad in AKTU Cultural Zonals STATE LEVEL ARTS AND CULTURAL FEST 2017-18 WINNING TAKES TALENT, TO REPEAT TAKES CHARACTER Living up to the words Ajay Kumar Garg Engineering College always strives forth in empowering their students with creativity and imagination. An efforts in this direction was witnessed when the cultural societies of the college represented the college at PRAVAH\" 'STATE LEVEL ARTS AND CULTURAL FEST' held at IET LUCKNOW on 25-27 March, 2018. AKGEC students participated in 07 events out of 08 events in this State Level Competition. A group of 22 Students participated in this state level cultural fest where a team of MohitaVerma and Siddharth bagged a gold medal in Poster Making Competition. The team of Kunal and Manas Seth won a silver medal in Face Painting. Euphony bagged silver in Band Wars. LIST OF EVENTS Category Event Position Held No of Participants Arts Poster Making First 2 Arts Face Painting Second 2 Culural Band Wars Second 6 AKGEC states team at IET Lucknow Face Painting competition at Faculty of Architecture LU Poster Making competition at Faculty of Architecture LU AKGEC teams in Newspapers of Lucknow Euphony teams of AKGEC Euphony teams of AKGEC Tech Literary & Management Festivals PERFORMANCE IN ZONAL LEVEL TECHNICAL, LITERARY AND MANAGEMENT EVENTS Ajay Kumar Garg Engineering College always strives forth in empowering their students with technical know-hows. Students also enrich their personna with literary and managerial skills. An effort in this direction was witnessed when the students of the college represented the college at zonal level technical, literary and management fest held at IPEC, GHAZIABAD on 22-24 March, 2018. AKGEC students participated in 11 events in the Zonal level competition. A total of 26 students participated in Zonal level competition that saw a participation in huge number from different colleges. The following is the result of the events. LIST OF EVENTS Event Position Held No of Participants FRUGAL ENGINEERING-JUGAAD First 3 CHECK YOUR KNOWLEDGE (QUIZ) First 2 HINDI DEBATE Second 1 ROBO RACE Second 4 ENGLISH DEBATE Second Runner-UP 1 Awards distribution by Director IPEC, Ghaziabad Frugal Engineering team at AKTU Technical Zonals PERFORMANCE IN STATE LEVEL TECHNICAL, LITERARY AND MANAGEMENT EVENTS A state level technical, literary and management fest was organized by Institute of Engineering and Technology (IET), Lucknow on behalf of Dr. A.P.J. Abdul Kalam Technical University. The event took place in IET, Lucknow campus on 09th  10th April, 2018. The college was represented in 4 different events namely Check your knowledge Quiz, Frugal Engineering, English Debate and Hindi Debate. A total of 7 students represented the college in various events. The event started on 09th April at 10:00 AM with the Inaugural ceremony, addressed by the Vice Chancellor Dr. Vinay Kumar Pathak and other reputed dignities in the main auditorium. The speeches were followed by AKTU anthem and concluded with a vote of thanks from Director IET. All the four events went really well and at the end of the competition a closing ceremony was organized on 10th April in the auditorium for prize distribution, the college got 3 prizes out of the 4 events in which it had participated. The Ghaziabad zone was also announced overall winner for the event. LIST OF EVENTS Event Position Held No of Participants FRUGAL ENGINEERING-JUGAAD  3 CHECK YOUR KNOWLEDGE (QUIZ) Second 2 HINDI DEBATE First 1 ENGLISH DEBATE First 1 AKGEC States Team at IET Lucknow Awards Distribution at AKTU Technical States INTER-INSTITUTE CRICKET TOURNAMENT 2018 ITS, MOHAN NAGAR TOURNAMENT REPORT Our College Cricket Team participated in Inter-Institute Cricket Tournament 2018 held from 13th to 16th March, 2018 at ITS, Mohan Nagar. On the first day, i.e. 13/03/18, our Team faced the home team, ITS in their first match. AKGEC batted first and set a target of 130 for the opponent team in 15 overs. Finally, they all got out (the ITS team) at 86 and emerged victorious in the first match. This led to the qualification for Semi-Finals. The semi-final was played against SGIT on 15/03/18. SGIT batted first and were thrashed at a score of 64. Our college team very easily achieved the target in 8 overs and won the match by 9 wickets, qualifying for the Finals. The final match was played on 16/03/18 against JHNIT. Our team batted first and scored 126 runs in 16 overs. The struggle was real, but unfortunately the opponent team won the match in 11.2 overs. Finally JHNIT came out to be the winners; Our team was the Runner-Up. A cash prize of Rs.5100 was awarded as the Runner-Up award along with Runner-up Trophy, Individual Trophies & Certificates. Our player, SHUBHAM CHAUDHARY was the highest wicket taker (6 wickets) and GOPAL KRISHNA YADAV was the highest run scorer (78 runs). IIT Ropar Sports Festival : AAROHAN The college sent the following `5 teams to IIT Ropar to participate in AAROHAN 18, the Sports Festival held on 16-18 Mar 2018; Basketball (Boys) Basketball (Girls) Badminton (Boys) Badminton (Girls) Table Tennis (Boys) Many top colleges / universities from Punjab / Haryana / Chandigarh participated in the festival. There were many strong teams and spectators witnessed some well-contested matches. Our Basketball team (Girls) captained by Anchal Saxena (4th Year IT) won `Gold (1st position) and Badminton (Girls) won the `Bronze medal. Boys teams also played well but were pitted against strong teams from Punjab / Haryana. Winners were given medals & certificates whereas all participants were presented with a T-Shirt each. Hospitality at IIT Ropar was very good. Students who were accompanied by Sports Officer found that visit to IIT Ropar was an enriching experience. AKGEC Badminton Girls Team won the Bronze medal. AKGEC Contingent at IIT Ropar Sports Fest 'AAROHAN' AKGEC Basketball Girls won the Gold medal.\n"
     ]
    }
   ],
   "source": [
    "document = read_doc(\"clean_data.csv\")\n",
    "print(document[2].page_content)\n",
    "# print(document)\n",
    "\n"
   ]
  },
  {
   "cell_type": "markdown",
   "metadata": {},
   "source": [
    "# chanking doc"
   ]
  },
  {
   "cell_type": "code",
   "execution_count": 9,
   "metadata": {},
   "outputs": [],
   "source": [
    "# funtion for chunk\n",
    "def chunk_data(docs, size=1000, overlap=200):\n",
    "    text_splitter = RecursiveCharacterTextSplitter(chunk_size=size, chunk_overlap=overlap)\n",
    "    doc = text_splitter.split_documents(docs)\n",
    "    return doc"
   ]
  },
  {
   "cell_type": "code",
   "execution_count": 10,
   "metadata": {},
   "outputs": [
    {
     "name": "stdout",
     "output_type": "stream",
     "text": [
      "<class 'str'>\n",
      "1157\n"
     ]
    }
   ],
   "source": [
    "docs = chunk_data(document)\n",
    "print(type(docs[0].page_content))\n",
    "print(len(docs))\n",
    "df = pd.DataFrame(docs[3])\n",
    "df.to_csv(\"chunk_part.csv\")\n",
    "# print(docs[3].page_content)"
   ]
  },
  {
   "cell_type": "markdown",
   "metadata": {},
   "source": [
    "# creating embed"
   ]
  },
  {
   "cell_type": "code",
   "execution_count": 11,
   "metadata": {},
   "outputs": [],
   "source": [
    "# result = client.embeddings.create(input = \"hello world\", model=\"text-embedding-mxbai-embed-large-v1\")\n",
    "# print(type(result))\n",
    "# print(len(result.data[0].embedding))\n",
    "# print(result)"
   ]
  },
  {
   "cell_type": "code",
   "execution_count": 12,
   "metadata": {},
   "outputs": [],
   "source": [
    "# def get_embedding(text, model=\"text-embedding-mxbai-embed-large-v1\"):\n",
    "#     text = text.replace(\"\\n\", \" \")\n",
    "#     return client.embeddings.create(input = [text], model=model).data[0].embedding\n",
    "# embeddings_list = []\n",
    "# for i in range(len(docs)):\n",
    "#     resposnse = get_embedding(docs[i].page_content)\n",
    "#     embeddings_list.append(resposnse)\n",
    "# embeddings_arr = np.array(embeddings_list).astype('float32')\n"
   ]
  },
  {
   "cell_type": "code",
   "execution_count": 13,
   "metadata": {},
   "outputs": [],
   "source": [
    "# dimension = len(embeddings_list[0])\n",
    "# index = faiss.IndexFlatL2(dimension)\n",
    "# index.add(embeddings_arr)"
   ]
  },
  {
   "cell_type": "code",
   "execution_count": 14,
   "metadata": {},
   "outputs": [],
   "source": [
    "# data = {\n",
    "#     'Sentence': [\n",
    "#         'AI is transforming the world.',\n",
    "#         'Pandas is a powerful data analysis library.',\n",
    "#         'Python is a versatile programming language.',\n",
    "#         'Machine learning is a subset of AI.',\n",
    "#         'Data science combines domain expertise, programming skills, and knowledge of math and statistics.',\n",
    "#         'Cloud computing offers scalable resources over the internet.',\n",
    "#         'Blockchain technology ensures secure and transparent transactions.',\n",
    "#         'Deep learning models require vast amounts of data.',\n",
    "#         'Cybersecurity is crucial for protecting digital assets.',\n",
    "#         'Natural language processing enables computers to understand human language.',\n",
    "#         'Art can be a powerful form of expression.',\n",
    "#         'Renewable energy sources are essential for sustainability.',\n",
    "#         'Sports bring people together and promote physical health.',\n",
    "#         'Cooking can be a creative and enjoyable activity.',\n",
    "#         'Music has the power to evoke emotions and memories.'\n",
    "#     ],\n",
    "#     'Category': [\n",
    "#         'Technology',\n",
    "#         'Library',\n",
    "#         'Programming',\n",
    "#         'Technology',\n",
    "#         'Data Science',\n",
    "#         'Technology',\n",
    "#         'Finance',\n",
    "#         'Data Science',\n",
    "#         'Security',\n",
    "#         'Technology',\n",
    "#         'Art',\n",
    "#         'Environment',\n",
    "#         'Sports',\n",
    "#         'Lifestyle',\n",
    "#         'Music'\n",
    "#     ]\n",
    "# }\n",
    "# dff = pd.DataFrame(data)\n",
    "# len(dff[\"Sentence\"])"
   ]
  },
  {
   "cell_type": "code",
   "execution_count": 15,
   "metadata": {},
   "outputs": [
    {
     "name": "stdout",
     "output_type": "stream",
     "text": [
      "(1157, 768)\n"
     ]
    }
   ],
   "source": [
    "# df = pd.DataFrame(data)\n",
    "# print(df.shape)\n",
    "enbedding_list = []\n",
    "for i in range(len(docs)):\n",
    "    resposnse = embed.encode(docs[i].page_content)\n",
    "    enbedding_list.append(resposnse)\n",
    "embeddings_df_arr = np.array(enbedding_list).astype('float32')\n",
    "print(embeddings_df_arr.shape)\n",
    "# print(embeddings_df_arr[0])\n"
   ]
  },
  {
   "cell_type": "code",
   "execution_count": 16,
   "metadata": {},
   "outputs": [
    {
     "name": "stdout",
     "output_type": "stream",
     "text": [
      "1157\n",
      "0\n"
     ]
    }
   ],
   "source": [
    "vector_dimension = embeddings_df_arr.shape[1]\n",
    "index = faiss.IndexFlatL2(vector_dimension)\n",
    "print(len(embeddings_df_arr))\n",
    "print(index.ntotal)\n",
    "faiss.normalize_L2(embeddings_df_arr)\n",
    "index.add(embeddings_df_arr)"
   ]
  },
  {
   "cell_type": "code",
   "execution_count": 62,
   "metadata": {},
   "outputs": [
    {
     "name": "stdout",
     "output_type": "stream",
     "text": [
      "(1, 768)\n"
     ]
    }
   ],
   "source": [
    "text = 'where is this college is locatted?'\n",
    "text_embed = embed.encode([text])\n",
    "text_arr = np.array(text_embed)\n",
    "faiss.normalize_L2(text_arr)\n",
    "\n",
    "# print(text_arr)\n",
    "print(text_arr.shape)\n"
   ]
  },
  {
   "cell_type": "code",
   "execution_count": 63,
   "metadata": {},
   "outputs": [
    {
     "name": "stdout",
     "output_type": "stream",
     "text": [
      "15\n",
      "[[0.68879104 0.8939587  0.8953505  0.90834683 0.9207142  0.9458928\n",
      "  0.95949936 0.969906   0.98160124 0.9835181  0.9875246  0.9915896\n",
      "  0.99509335 0.9956958  0.99670607]]\n"
     ]
    }
   ],
   "source": [
    "distance, idx = index.search(text_arr, k=15)\n",
    "# rdf = pd.DataFrame({'distance':distance[0], 'idx':idx[0]})\n",
    "# mdf = pd.merge(rdf, df,left_on='idx', right_index=True)\n",
    "# mdf\n",
    "vel = len(idx[0])\n",
    "print(vel)\n",
    "# print(docs[vel])\n",
    "print(distance)\n",
    "string=[]\n",
    "for i in range(len(idx[0])):\n",
    "    # print(docs[idx[0][i]])\n",
    "    string.append((docs[idx[0][i]].page_content))\n",
    "# print(docs[idx[0][0]])\n",
    "# contents=docs[idx[0][1]].page_content\n",
    "# print(type(docs[idx[0][1]].page_content))\n",
    "context=\" \".join(string)\n",
    "# print(context)\n",
    "file_path = \"string.txt\"\n",
    "\n",
    "# Open the file in write mode and save the string\n",
    "with open(file_path, 'w') as file:\n",
    "    file.write(context)\n",
    "\n"
   ]
  },
  {
   "cell_type": "markdown",
   "metadata": {},
   "source": [
    "# chat call"
   ]
  },
  {
   "cell_type": "code",
   "execution_count": 64,
   "metadata": {},
   "outputs": [],
   "source": [
    "#funtion for calling chat model\n",
    "def call_openai_chat_model(api_key, model, user_input, context):\n",
    "    OpenAI.api_key = api_key\n",
    "    \n",
    "    # Create the conversation messages\n",
    "    completion = client.chat.completions.create(\n",
    "        model=model,\n",
    "        messages=[\n",
    "            {\"role\": \"system\", \"content\": \"You are a college chatbot who have to provide information about the college provided as context\"},\n",
    "            {\"role\": \"assistant\", \"content\": context},\n",
    "            {\"role\": \"user\", \"content\": user_input}\n",
    "        ],\n",
    "        max_tokens=200,\n",
    "        stream=True\n",
    "    )\n",
    "\n",
    "    # return completion.choices[0].message\n",
    "    for chunk in completion:\n",
    "        print(chunk.choices[0].delta.content)"
   ]
  },
  {
   "cell_type": "code",
   "execution_count": 65,
   "metadata": {},
   "outputs": [
    {
     "name": "stdout",
     "output_type": "stream",
     "text": [
      "college. ISTE COORDINATORS HEAD COORDINATOR ADITYA PATEL ME CORE COORDINATOR MUKUL GOYAL IT CORE COORDINATOR PULKIT SAXENA CE STUDENT SECRETARY AVINASH RAI CSE CORE COORDINATOR VIVEK SINGH CSE CORE COORDINATOR UTKARSH VARMA IT CORE COORDINATOR SWETANK ASIT SRIVASTAVA ECE CORE COORDINATOR ARIHANT JAIN IT 2. Online transfer through NEFT/RTGS. Bank Account details of College for online payment are as under: Name of the Beneficiary : Ajay Kumar Garg Engineering College Name of the Bank : Kotak Mahindra Bank Ltd., Navyug Market, Ghaziabad -201001 (U.P.)-INDIA Bank Account No. : 508010250461 (Saving Bank Account) RTGS/NEFT/IFSC Code : KKBK0005295 Note : This Fee Structure is a demand letter from the college and valid for Bank Loan. TUITION FEE FOR THE M.TECH STUDENTS TO BE ADMITTED DURING THE SESSION 2024-25 M.TECH 1st Year (2024-25) Particulars I SEM (Amount in Rs) II SEM (Amount in Rs) TOTAL (Amount in Rs) Registration Fees 1500 1500 Tuition & Development Fees 55628 55628 111256 Exam & Enrollment Fees*    Medical Charges 1500 1500 Caution Money (Refundable) 5000 5000 63628 55628 119256 *The Following payments will be paid by the students directly to the University as and when demanded: a) Examination Fee Rs. 10000/- and Digital Library Fee Rs.1000/-. b) The aforesaid fee are subject to as conducted by the National Testing Agency and through direct mode at the college level. Admission, however, depends on the competence of the candidates and shall be subject to the availability of seats. Admission Enquiry Number only for MBA: 7669094518 For registration to MBA admission 2023-25, please click on the link given below. Click Here: https://akgim.edu.in/admission Link: 481\n",
      "content: Grievance Committee  Grievance Committee Internal Complaints Committee Student Grievance Committee Grievance Redressal Committee (GRC) for Faculty & Staff mobile number on reverse of the draft. It may be submitted by post or in person. OR 2. Online transfer through NEFT/RTGS. Bank Account details of College for online payment are as under: Name of the Beneficiary : Ajay Kumar Garg Engineering College Name of the Bank : Kotak Mahindra Bank Ltd., Navyug Market, Ghaziabad -201001 (U.P.)-INDIA Bank Account No. : 508010250461 (Saving Bank Account) RTGS/NEFT/IFSC Code : KKBK0005295 Note : This Fee Structure is a demand letter from the college and valid for Bank Loan. TUITION FEE FOR THE B. TECH STUDENTS TO BE ADMITTED DURING THE SESSION 2024-25 UNDER FEE WAIVER SCHEME B.Tech 1st Year Particulars Amount in Rs. Registration Fees 1500 Development Fees 10114 Exam & Enrollment Fees*  Medical Charges 1500 Book Bank Fees 2900 Activity Fee (One Time) 10000 Career Planning & Placement (One Time) 10000 Caution Money (Refundable) 5000 41014 *The Following payments will be paid by the students directly to the University as and when demanded: a) Engineering College\" payable at Ghaziabad or Delhi. Write your name and mobile number on reverse of the draft. It may be submitted by post or in person. OR 2. Online transfer through NEFT/RTGS. Bank Account details of College for online payment are as under: Name of the Beneficiary : Ajay Kumar Garg Engineering College Name of the Bank : Kotak Mahindra Bank Ltd., Navyug Market, Ghaziabad -201001 (U.P.)-INDIA Bank Account No. : 508010250461 (Saving Bank Account) RTGS/NEFT/IFSC Code : KKBK0005295 Note: This Fee Structure is a demand letter from the college and valid for Bank Loan. participants as they found it useful for their students and the potential to change society. The following colleges participated in the FDP: 1. GREATER NOIDA INSTITUTE OF ENGINEERING & TECHNOLOGY, GREATER NOIDA 2. INDERPRASTHA ENGINEERING COLLEGE, GHAZIABAD 3. AJAY KUMAR GARG ENGINEERING COLLEGE, GHAZIABAD 4. SANSKAR COLLEGE OF ENGINEERING AND TECHNOLOGY, GHAZIABAD 5. KIET GROUP OF INSTITUTIONS, GHAZIABAD 6. DOON UNIVERSITY, DEHRADUN 7. ANAND ENGINEERING COLLEGE, AGRA 8. ABES INSTITUTE OF TECHNOLOGY, GHAZIABAD 9. FEROZE GANDHI INSTITUTE OF ENGG & TECHNOLOGY, RAEBARELI 10. GALGOTIAS COLLEGE OF ENGINEERING AND TECHNOLOGY, GREATER NOIDA 11. JAIPURIA INSTITUTE OF MANAGEMENT, GHAZIABAD 12. B.M.A.S. ENGINEERING COLLEGE (SGI GROUP), AGRA. 3-Day Face to Face Introductory FDP (for Staff) (05- 07 April 2023) Dates : 5th  7th April, 2023 Place : ML-36, ME Block, 2d Floor Total Registration  42 Total participants  39 Facilitator  Dr Parul Verma and Mr BN Pandey Observer  Mr Kaushal Gupta, ABESIT, AKANKSHA SINGH 1194 1350 9.473 I ME / I 86 1802740131 SRIJAN MISHRA 1175 1350 9.407 II ME / I 87 1802740029 ANSHIKA TRIPATHI 1159 1350 9.146 III ME / I 1 1702714964 SONAKSHI AGARWAL 9.2 0 92 I MCA / III 7 th Rank in MCA Course at University level 2 1602714014 SWETA SHARMA 9.03 10 90.3 II MCA / III 3 1702714960 SHUBHAM AGARWAL 9.01 0 90.1 III MCA / III 1 1702714024 SHIVANGI SINGH 1192 1400 85.14285714 I MCA / II 2 1802714909 ANUJ KUMAR 1178 1400 84.14285714 II MCA / II 3 1702714023 SHIVANGI GARG 1151 1400 82.21428571 III MCA / II 1 1802714003 MANSI NIGAM 1161 1400 82.92857143 I MCA / I 2 1802714005 PREETI JAISWAL 1124 1400 80.28571429 II MCA / I 3 1802714004 MUKUL 1108 1400 79.14285714 III MCA / I Merit Awards 2017-18 SL. NO. UNIVERSITY ROLL NO. NAME OF STUDENTS MARKS OBTAINED % MARKS POSITION IN COLLEGE BRANCH / YEAR UNIVERSITY POSITION 1 1402700094 SACHIN MAURYA 4348 86.96 I CIVIL / IV 5 th Rank in CE Branch at University level. 2 1402700108 SHUBHAM ARORA 4312 86.24 II CIVIL / IV 9 skills enhancement initiatives taken by the institution 5.3.1 Certificates 5.3.2 Supporting Docs 5.3.3 Supporting Docs CRITERION VI GOVERNANCE, LEADERSHIP AND MANAGEMENT 6.1  Institutional Vision and Leadership 6.2  Strategy Development and Deployment 6.3  Faculty Empowerment Strategies 6.4  Financial Management and Resource Mobilization 6.5  Internal Quality Assurance System CRITERION VII  INSTITUTIONAL VALUES AND BEST PRACTICES 7.1 Institutional Values and Social Responsibilities 7.2  Best Practices Session 2022-23 CRITERION I  CURRICULAR ASPECTS 1.1.1. Curricular-Planning-and-Implementation 1.2.2 1.2.2 1.2.2.1 Student's NPTEL Certificates 1.3.3 1.3.3 1.4  Feedback System CRITERION II TEACHING-LEARNING AND EVALUATION 2.2.1 Programs for Advanced and Slow Learners 2.3.1 Experiential Learning 2.3.2 ICT Enabled Tools 2.5.1 2.5.1 2.5.2 2.5.2 2.6.2 CO PO Attainment specimen 2.7.1 Student's Satisfaction Survey CRITERION III  RESEARCH, INNOVATIONS AND EXTENSION 3.3.1 Number of Ph.Ds Link: 395\n",
      "content: PLACEMENTS  Our Recruiters  Our Recruiters & Communication Engg. Group 04 1702731120 SAKSHI DUBEY JAY PRAKASH DUBEY 027 31 9.19 09 9 F Mechanical Engg. Group 04 1702740043 DEEPANSH VARSHNEY SANJEEV KUMAR VARSHNEY 027 40 9.04 10 Merit Awards 2019-20 SL. NO. UNIVERSITY ROLL NO. NAME OF STUDENTS MARKS OBTAINED (CGPA 4 yr.) & (YGPA From 3 to 1 yr.) MAX. MARKS POSITION IN COLLEGE BRANCH / YEAR UNIVERSITY POSITION 1 1602700034 GAURAV SINGH 9.01 10 I CIVIL / IV 2 1702700919 SHIVAM SHUKLA 8.76 10 II CIVIL / IV 3 1602700057 PRANJAL MISHRA 8.75 10 III CIVIL / IV 4 1602710143 SHIVI AGRAWAL 9.18 10 I CSE / IV 5 1602731154 SURBHI 9.18 10 II CSE / IV 6 1602713110 SRIJAN PRAKASH 9.06 10 III CSE / IV 7 1602713120 VANSHIKA GUPTA 9.04 10 IV CSE / IV 8 1602700103 SRISHTI SINGH 9.4 10 I ECE / IV 1 st Rank in ECE Branch at University level. (I Rank across all branches of B.Tech. Course) GOLD+ Chancellor Medal 9 1602731085 NEHA SHAKYA 9.13 10 II ECE / IV 10 1602731084 NEHA SAINI 9.11 10 III ECE / IV 11 1602732009 ANIRUDDH SHUKLA 9.1 10 I EI / IV 2 India-201009 Email: upadhyaysantosh@akgec.ac.in Profile Link: https://www.akgec.ac.in/wp-content/uploads/2023/04/Dr.-Santosh-Kumar-Upadhyay.pdf Dr. Akhilesh Verma Department of Computer Science and Engineering, Ajay Kumar Garg Engineering College, Ghaziabad, UP, India-201009 Email: vermaakhilesh@akgec.ac.in Profile Link: https://www.akgec.ac.in/wp-content/uploads/2023/04/Akhilesh-Verma-.pdf Glimpse Journal of Computer Science, is the official journal of the Department of Computer Science and Engineering, Ajay Kumar Garg Engineering College, Ghaziabad. It publishes the work involved in all aspects of computer science, information technology and technology. Papers reporting original research and innovative applications from all parts of the world are welcome. Papers for publication in the journal are selected through rigorous peer review, to ensure originality, timeliness, relevance, and readability. While the journal emphasizes the publication of previously unpublished articles, at University level 8 1502710010 ADYA JHA 4346 5000 86.92 V CSE / IV 10 th Rank in CSE Branch at University level 9 1502731042 ARUSHI AGARWAL 4321 5000 86.42 I ECE / IV 8 th Rank in ECE Branch at University level 10 1502731089 MRIDU BHATNAGAR 4280 5000 85.60 II ECE / IV 11 1502740170 VARDA 4178 5000 83.56 III ECE / IV 12 1502732038 VAIBHAV OMER 4044 5000 80.88 I EI / IV 7 th Rank in EI Branch at University level 13 1502732008 ASHISH KUMAR SHARMA 4039 5000 80.78 II EI / IV 9 th Rank in EI Branch at University level 14 1502732006 ANUBHAV PANWAR 3971 5000 79.42 III EI / IV 15 1502721011 AKASH GOEL 4412 5000 88.24 I EN / IV 1 st Rank in EN Branch at University level GOLD 16 1502721017 AMAN SINGH 4281 5000 85.62 II EN / IV 17 1502721098 SHYAM GUPTA 4214 5000 84.28 III EN / IV 18 1502713052 MANSI AGRAWAL 4337 5000 86.74 I IT / IV 2 nd Rank in IT Branch at University level SILVER 19 1502713074 RADHIKA GUPTA 4289 5000 85.78 II IT / IV 4 th Rank in IT Branch at University level 20 1502713112 Link: 546\n",
      "content: VECELL Upcoming Events  VECELL Upcoming Events IN COLLEGE BRANCH / YEAR UNIVERSITY POSITION 1 1402700094 SACHIN MAURYA 4348 86.96 I CIVIL / IV 5 th Rank in CE Branch at University level. 2 1402700108 SHUBHAM ARORA 4312 86.24 II CIVIL / IV 9 th Rank in CE Branch at University level. 3 1402700042 DEEKSHA SINGH 4300 86.00 III CIVIL / IV 4 1402710107 PREETI GUPTA 4472 89.44 I CSE / IV 1 st Rank in CSE Branch at University level. (I Rank across all branches of B.Tech. Course) GOLD + Chancellor Medal 5 1402710102 PRAGYA SRIVASTAVA 4402 88.04 II CSE / IV 3 rd Rank in CSE Branch at University level. BRONZE 6 1402710018 ANCHAL GARG 4368 87.36 III CSE / IV 7 th Rank in CSE Branch at University level. 7 1402731108 PRIYANKA SETH 4318 86.36 I ECE / IV 6 th Rank in ECE Branch at University level. 8 1402731164 UTKARSH AGGARWAL 4316 86.32 II ECE / IV 7 th Rank in ECE Branch at University level. 9 1402731132 SHALINI GUPTA 4290 85.80 III ECE / IV 10 1402732008 ANSHIKA TYAGI 4234 84.68 I EI / IV 1 st Rank in EI Branch at University level. GOLD 11\n"
     ]
    }
   ],
   "source": [
    "print(context)"
   ]
  },
  {
   "cell_type": "code",
   "execution_count": 66,
   "metadata": {},
   "outputs": [],
   "source": [
    "\n",
    "# with open('context.txt', 'r') as file:\n",
    "#     # Read the content of the file and store it in a string\n",
    "#     file_content = file.read()"
   ]
  },
  {
   "cell_type": "code",
   "execution_count": 67,
   "metadata": {},
   "outputs": [
    {
     "name": "stdout",
     "output_type": "stream",
     "text": [
      "<think>\n",
      "\n",
      "\n",
      "Okay\n",
      ",\n",
      " so\n",
      " the\n",
      " user\n",
      " is\n",
      " asking\n",
      " where\n",
      " the\n",
      " Aj\n",
      "ay\n",
      " Kumar\n",
      " G\n",
      "arg\n",
      " Engineering\n",
      " College\n",
      " is\n",
      " located\n",
      ".\n",
      " Let\n",
      " me\n",
      " look\n",
      " through\n",
      " the\n",
      " context\n",
      " provided\n",
      ".\n",
      "\n",
      "\n",
      "First\n",
      ",\n",
      " I\n",
      " see\n",
      " mentions\n",
      " of\n",
      " Gh\n",
      "azi\n",
      "abad\n",
      " and\n",
      " UP\n",
      " (\n",
      "U\n",
      "tt\n",
      "ar\n",
      " Pradesh\n",
      ")\n",
      " in\n",
      " the\n",
      " bank\n",
      " account\n",
      " details\n",
      " and\n",
      " other\n",
      " sections\n",
      ".\n",
      " That\n",
      " gives\n",
      " me\n",
      " a\n",
      " clue\n",
      " about\n",
      " the\n",
      " location\n",
      ".\n",
      " \n",
      "\n",
      "\n",
      "In\n",
      " the\n",
      " merit\n",
      " awards\n",
      " section\n",
      ",\n",
      " I\n",
      " notice\n",
      " some\n",
      " roll\n",
      " numbers\n",
      " start\n",
      " with\n",
      " '\n",
      "150\n",
      "27\n",
      "'\n",
      " which\n",
      " probably\n",
      " corresponds\n",
      " to\n",
      " Gh\n",
      "azi\n",
      "abad\n",
      "'s\n",
      " area\n",
      " code\n",
      ".\n",
      " Also\n",
      ",\n",
      " there\n",
      " are\n",
      " references\n",
      " to\n",
      " \"\n",
      "G\n",
      "hazi\n",
      "abad\n",
      " -\n",
      "201\n",
      "001\n",
      " (\n",
      "U\n",
      ".P\n",
      ".)\n",
      "-\n",
      "IND\n",
      "IA\n",
      "\"\n",
      " in\n",
      " the\n",
      " bank\n",
      " details\n",
      ",\n",
      " confirming\n",
      " the\n",
      " location\n",
      ".\n",
      "\n",
      "\n",
      "So\n",
      " putting\n",
      " it\n",
      " all\n",
      " together\n",
      ",\n",
      " the\n",
      " college\n",
      " is\n",
      " likely\n",
      " located\n",
      " in\n",
      " Gh\n",
      "azi\n",
      "abad\n",
      ",\n",
      " Uttar\n",
      " Pradesh\n",
      ",\n",
      " India\n",
      ".\n",
      "\n",
      "</think>\n",
      "\n",
      "\n",
      "\n",
      "Aj\n",
      "ay\n",
      " Kumar\n",
      " G\n",
      "arg\n",
      " Engineering\n",
      " College\n",
      " is\n",
      " located\n",
      " in\n",
      " **\n",
      "G\n",
      "hazi\n",
      "abad\n",
      "**,\n",
      " Uttar\n",
      " Pradesh\n",
      ",\n",
      " India\n",
      ".\n",
      " The\n",
      " bank\n",
      " account\n",
      " details\n",
      " and\n",
      " other\n",
      " references\n",
      " in\n",
      " the\n",
      " context\n",
      " also\n",
      " specify\n",
      " the\n",
      " location\n",
      " as\n",
      " Gh\n",
      "azi\n",
      "abad\n",
      " -\n",
      " \n",
      "201\n",
      "001\n",
      " (\n",
      "U\n",
      ".P\n",
      ".)\n",
      " -\n",
      " IND\n",
      "IA\n",
      ".\n",
      "None\n"
     ]
    }
   ],
   "source": [
    "call_openai_chat_model(api_key=\"no-needed\", model=\"deepseek-r1-distill-llama-8b\", user_input=text, context=context)\n"
   ]
  }
 ],
 "metadata": {
  "kernelspec": {
   "display_name": "env",
   "language": "python",
   "name": "python3"
  },
  "language_info": {
   "codemirror_mode": {
    "name": "ipython",
    "version": 3
   },
   "file_extension": ".py",
   "mimetype": "text/x-python",
   "name": "python",
   "nbconvert_exporter": "python",
   "pygments_lexer": "ipython3",
   "version": "3.12.3"
  }
 },
 "nbformat": 4,
 "nbformat_minor": 2
}
