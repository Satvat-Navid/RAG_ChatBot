{
 "cells": [
  {
   "cell_type": "code",
   "execution_count": 52,
   "metadata": {},
   "outputs": [],
   "source": [
    "import pandas as pd\n",
    "import numpy as np"
   ]
  },
  {
   "cell_type": "code",
   "execution_count": 53,
   "metadata": {},
   "outputs": [],
   "source": [
    "df = pd.read_csv(\"cleaned_file.csv\")"
   ]
  },
  {
   "cell_type": "code",
   "execution_count": 54,
   "metadata": {},
   "outputs": [
    {
     "name": "stdout",
     "output_type": "stream",
     "text": [
      "                                                 URL  \\\n",
      "0  https://www.akgec.ac.in/ieee-student-branch-ch...   \n",
      "1  https://www.akgec.ac.in/achievements/student-a...   \n",
      "2  https://www.akgec.ac.in/rd/fdps/#fdp-on-machin...   \n",
      "3  https://www.akgec.ac.in/departments/applied-sc...   \n",
      "4     https://www.akgec.ac.in/mba-admission-2023-25/   \n",
      "\n",
      "                                             Content  \n",
      "0  IEEE Student Branch Chapter  IEEE Student Bran...  \n",
      "1  ACHIEVEMENTS  Student Awards (Extra Curricular...  \n",
      "2  R&D  FDPs  FDPs FDP on Green Manufacturing The...  \n",
      "3  DEPARTMENTS  Applied Sciences & Humanities  Ap...  \n",
      "4  MBA Admission 2023-25  MBA Admission 2023-25 M...  \n"
     ]
    },
    {
     "data": {
      "text/plain": [
       "(573, 2)"
      ]
     },
     "execution_count": 54,
     "metadata": {},
     "output_type": "execute_result"
    }
   ],
   "source": [
    "df = df.drop_duplicates()\n",
    "print(df.head())\n",
    "df.shape"
   ]
  },
  {
   "cell_type": "code",
   "execution_count": 55,
   "metadata": {},
   "outputs": [
    {
     "data": {
      "text/html": [
       "<div>\n",
       "<style scoped>\n",
       "    .dataframe tbody tr th:only-of-type {\n",
       "        vertical-align: middle;\n",
       "    }\n",
       "\n",
       "    .dataframe tbody tr th {\n",
       "        vertical-align: top;\n",
       "    }\n",
       "\n",
       "    .dataframe thead th {\n",
       "        text-align: right;\n",
       "    }\n",
       "</style>\n",
       "<table border=\"1\" class=\"dataframe\">\n",
       "  <thead>\n",
       "    <tr style=\"text-align: right;\">\n",
       "      <th></th>\n",
       "      <th>URL</th>\n",
       "      <th>Content</th>\n",
       "    </tr>\n",
       "  </thead>\n",
       "  <tbody>\n",
       "    <tr>\n",
       "      <th>318</th>\n",
       "      <td>https://www.akgec.ac.in/life-akgec/societies/d...</td>\n",
       "      <td>LIFE @ AKGEC  Societies  Departmental Societie...</td>\n",
       "    </tr>\n",
       "    <tr>\n",
       "      <th>7</th>\n",
       "      <td>https://www.akgec.ac.in/life-akgec/societies/e...</td>\n",
       "      <td>LIFE @ AKGEC  Societies  Extra-Curricular Soci...</td>\n",
       "    </tr>\n",
       "    <tr>\n",
       "      <th>219</th>\n",
       "      <td>https://www.akgec.ac.in/vecell-sdps/#drishti-2023</td>\n",
       "      <td>VECell SDPs  VECell SDPs Workshop on Understan...</td>\n",
       "    </tr>\n",
       "    <tr>\n",
       "      <th>352</th>\n",
       "      <td>https://www.akgec.ac.in/academics/academic-cal...</td>\n",
       "      <td>Academics  Academic Calendar  Academic Calenda...</td>\n",
       "    </tr>\n",
       "    <tr>\n",
       "      <th>115</th>\n",
       "      <td>https://www.akgec.ac.in/rd/akgec-international...</td>\n",
       "      <td>R&amp;D  AKGEC International Journal of Technology...</td>\n",
       "    </tr>\n",
       "    <tr>\n",
       "      <th>366</th>\n",
       "      <td>https://www.akgec.ac.in/rd/mous/#mou-with-aicra</td>\n",
       "      <td>R&amp;D  MoUs  MoUs MoU with AICRA AKGEC Skills Fo...</td>\n",
       "    </tr>\n",
       "    <tr>\n",
       "      <th>43</th>\n",
       "      <td>https://www.akgec.ac.in/guest-lectures-webinar...</td>\n",
       "      <td>Guest Lectures/Webinars  Guest Lectures/Webina...</td>\n",
       "    </tr>\n",
       "    <tr>\n",
       "      <th>431</th>\n",
       "      <td>https://www.akgec.ac.in/uhvfdp/</td>\n",
       "      <td>Faculty/Staff Development Programs  Faculty/St...</td>\n",
       "    </tr>\n",
       "    <tr>\n",
       "      <th>484</th>\n",
       "      <td>https://www.akgec.ac.in/akgec-visual-tour/</td>\n",
       "      <td>AKGEC Visual Tour  AKGEC Visual Tour</td>\n",
       "    </tr>\n",
       "    <tr>\n",
       "      <th>506</th>\n",
       "      <td>https://www.akgec.ac.in/life-akgec/societies/d...</td>\n",
       "      <td>LIFE @ AKGEC  Societies  Departmental Societie...</td>\n",
       "    </tr>\n",
       "  </tbody>\n",
       "</table>\n",
       "</div>"
      ],
      "text/plain": [
       "                                                   URL  \\\n",
       "318  https://www.akgec.ac.in/life-akgec/societies/d...   \n",
       "7    https://www.akgec.ac.in/life-akgec/societies/e...   \n",
       "219  https://www.akgec.ac.in/vecell-sdps/#drishti-2023   \n",
       "352  https://www.akgec.ac.in/academics/academic-cal...   \n",
       "115  https://www.akgec.ac.in/rd/akgec-international...   \n",
       "366    https://www.akgec.ac.in/rd/mous/#mou-with-aicra   \n",
       "43   https://www.akgec.ac.in/guest-lectures-webinar...   \n",
       "431                    https://www.akgec.ac.in/uhvfdp/   \n",
       "484         https://www.akgec.ac.in/akgec-visual-tour/   \n",
       "506  https://www.akgec.ac.in/life-akgec/societies/d...   \n",
       "\n",
       "                                               Content  \n",
       "318  LIFE @ AKGEC  Societies  Departmental Societie...  \n",
       "7    LIFE @ AKGEC  Societies  Extra-Curricular Soci...  \n",
       "219  VECell SDPs  VECell SDPs Workshop on Understan...  \n",
       "352  Academics  Academic Calendar  Academic Calenda...  \n",
       "115  R&D  AKGEC International Journal of Technology...  \n",
       "366  R&D  MoUs  MoUs MoU with AICRA AKGEC Skills Fo...  \n",
       "43   Guest Lectures/Webinars  Guest Lectures/Webina...  \n",
       "431  Faculty/Staff Development Programs  Faculty/St...  \n",
       "484               AKGEC Visual Tour  AKGEC Visual Tour  \n",
       "506  LIFE @ AKGEC  Societies  Departmental Societie...  "
      ]
     },
     "execution_count": 55,
     "metadata": {},
     "output_type": "execute_result"
    }
   ],
   "source": [
    "df.sample(10)"
   ]
  },
  {
   "cell_type": "code",
   "execution_count": 56,
   "metadata": {},
   "outputs": [
    {
     "data": {
      "text/plain": [
       "<bound method DataFrame.duplicated of                                                    URL  \\\n",
       "0    https://www.akgec.ac.in/ieee-student-branch-ch...   \n",
       "1    https://www.akgec.ac.in/achievements/student-a...   \n",
       "2    https://www.akgec.ac.in/rd/fdps/#fdp-on-machin...   \n",
       "3    https://www.akgec.ac.in/departments/applied-sc...   \n",
       "4       https://www.akgec.ac.in/mba-admission-2023-25/   \n",
       "..                                                 ...   \n",
       "568  https://www.akgec.ac.in/departments/mechanical...   \n",
       "569  https://www.akgec.ac.in/life-akgec/social-resp...   \n",
       "570  https://www.akgec.ac.in/departments/mechanical...   \n",
       "571  https://www.akgec.ac.in/departments/electronic...   \n",
       "572      https://www.akgec.ac.in/distinguished-alumni/   \n",
       "\n",
       "                                               Content  \n",
       "0    IEEE Student Branch Chapter  IEEE Student Bran...  \n",
       "1    ACHIEVEMENTS  Student Awards (Extra Curricular...  \n",
       "2    R&D  FDPs  FDPs FDP on Green Manufacturing The...  \n",
       "3    DEPARTMENTS  Applied Sciences & Humanities  Ap...  \n",
       "4    MBA Admission 2023-25  MBA Admission 2023-25 M...  \n",
       "..                                                 ...  \n",
       "568  DEPARTMENTS  Mechanical Engineering  Mechanica...  \n",
       "569  LIFE @ AKGEC  Social Responsibilities  Skill D...  \n",
       "570  DEPARTMENTS  Mechanical Engineering  Mechanica...  \n",
       "571  DEPARTMENTS  Electronics and Communication Eng...  \n",
       "572  Distinguished Alumni  Distinguished Alumni Rec...  \n",
       "\n",
       "[573 rows x 2 columns]>"
      ]
     },
     "execution_count": 56,
     "metadata": {},
     "output_type": "execute_result"
    }
   ],
   "source": [
    "df.duplicated\n"
   ]
  },
  {
   "cell_type": "code",
   "execution_count": 57,
   "metadata": {},
   "outputs": [
    {
     "data": {
      "text/html": [
       "<div>\n",
       "<style scoped>\n",
       "    .dataframe tbody tr th:only-of-type {\n",
       "        vertical-align: middle;\n",
       "    }\n",
       "\n",
       "    .dataframe tbody tr th {\n",
       "        vertical-align: top;\n",
       "    }\n",
       "\n",
       "    .dataframe thead th {\n",
       "        text-align: right;\n",
       "    }\n",
       "</style>\n",
       "<table border=\"1\" class=\"dataframe\">\n",
       "  <thead>\n",
       "    <tr style=\"text-align: right;\">\n",
       "      <th></th>\n",
       "      <th>URL</th>\n",
       "      <th>Content</th>\n",
       "    </tr>\n",
       "  </thead>\n",
       "  <tbody>\n",
       "    <tr>\n",
       "      <th>0</th>\n",
       "      <td>https://www.akgec.ac.in/ieee-student-branch-ch...</td>\n",
       "      <td>IEEE Student Branch Chapter  IEEE Student Bran...</td>\n",
       "    </tr>\n",
       "    <tr>\n",
       "      <th>1</th>\n",
       "      <td>https://www.akgec.ac.in/achievements/student-a...</td>\n",
       "      <td>ACHIEVEMENTS  Student Awards (Extra Curricular...</td>\n",
       "    </tr>\n",
       "    <tr>\n",
       "      <th>2</th>\n",
       "      <td>https://www.akgec.ac.in/rd/fdps/#fdp-on-machin...</td>\n",
       "      <td>R&amp;D  FDPs  FDPs FDP on Green Manufacturing The...</td>\n",
       "    </tr>\n",
       "    <tr>\n",
       "      <th>3</th>\n",
       "      <td>https://www.akgec.ac.in/departments/applied-sc...</td>\n",
       "      <td>DEPARTMENTS  Applied Sciences &amp; Humanities  Ap...</td>\n",
       "    </tr>\n",
       "    <tr>\n",
       "      <th>4</th>\n",
       "      <td>https://www.akgec.ac.in/mba-admission-2023-25/</td>\n",
       "      <td>MBA Admission 2023-25  MBA Admission 2023-25 M...</td>\n",
       "    </tr>\n",
       "  </tbody>\n",
       "</table>\n",
       "</div>"
      ],
      "text/plain": [
       "                                                 URL  \\\n",
       "0  https://www.akgec.ac.in/ieee-student-branch-ch...   \n",
       "1  https://www.akgec.ac.in/achievements/student-a...   \n",
       "2  https://www.akgec.ac.in/rd/fdps/#fdp-on-machin...   \n",
       "3  https://www.akgec.ac.in/departments/applied-sc...   \n",
       "4     https://www.akgec.ac.in/mba-admission-2023-25/   \n",
       "\n",
       "                                             Content  \n",
       "0  IEEE Student Branch Chapter  IEEE Student Bran...  \n",
       "1  ACHIEVEMENTS  Student Awards (Extra Curricular...  \n",
       "2  R&D  FDPs  FDPs FDP on Green Manufacturing The...  \n",
       "3  DEPARTMENTS  Applied Sciences & Humanities  Ap...  \n",
       "4  MBA Admission 2023-25  MBA Admission 2023-25 M...  "
      ]
     },
     "execution_count": 57,
     "metadata": {},
     "output_type": "execute_result"
    }
   ],
   "source": [
    "df.head()"
   ]
  },
  {
   "cell_type": "code",
   "execution_count": 58,
   "metadata": {},
   "outputs": [
    {
     "data": {
      "text/plain": [
       "Content\n",
       "True     423\n",
       "False    150\n",
       "Name: count, dtype: int64"
      ]
     },
     "execution_count": 58,
     "metadata": {},
     "output_type": "execute_result"
    }
   ],
   "source": [
    "df[\"Content\"].duplicated().value_counts()"
   ]
  },
  {
   "cell_type": "code",
   "execution_count": 59,
   "metadata": {},
   "outputs": [],
   "source": [
    "df=df[df[\"Content\"].duplicated()==False]"
   ]
  },
  {
   "cell_type": "code",
   "execution_count": 60,
   "metadata": {},
   "outputs": [
    {
     "name": "stdout",
     "output_type": "stream",
     "text": [
      "(150, 2)\n"
     ]
    },
    {
     "data": {
      "text/html": [
       "<div>\n",
       "<style scoped>\n",
       "    .dataframe tbody tr th:only-of-type {\n",
       "        vertical-align: middle;\n",
       "    }\n",
       "\n",
       "    .dataframe tbody tr th {\n",
       "        vertical-align: top;\n",
       "    }\n",
       "\n",
       "    .dataframe thead th {\n",
       "        text-align: right;\n",
       "    }\n",
       "</style>\n",
       "<table border=\"1\" class=\"dataframe\">\n",
       "  <thead>\n",
       "    <tr style=\"text-align: right;\">\n",
       "      <th></th>\n",
       "      <th>URL</th>\n",
       "      <th>Content</th>\n",
       "    </tr>\n",
       "  </thead>\n",
       "  <tbody>\n",
       "    <tr>\n",
       "      <th>0</th>\n",
       "      <td>https://www.akgec.ac.in/ieee-student-branch-ch...</td>\n",
       "      <td>IEEE Student Branch Chapter  IEEE Student Bran...</td>\n",
       "    </tr>\n",
       "    <tr>\n",
       "      <th>1</th>\n",
       "      <td>https://www.akgec.ac.in/achievements/student-a...</td>\n",
       "      <td>ACHIEVEMENTS  Student Awards (Extra Curricular...</td>\n",
       "    </tr>\n",
       "    <tr>\n",
       "      <th>2</th>\n",
       "      <td>https://www.akgec.ac.in/rd/fdps/#fdp-on-machin...</td>\n",
       "      <td>R&amp;D  FDPs  FDPs FDP on Green Manufacturing The...</td>\n",
       "    </tr>\n",
       "    <tr>\n",
       "      <th>3</th>\n",
       "      <td>https://www.akgec.ac.in/departments/applied-sc...</td>\n",
       "      <td>DEPARTMENTS  Applied Sciences &amp; Humanities  Ap...</td>\n",
       "    </tr>\n",
       "    <tr>\n",
       "      <th>4</th>\n",
       "      <td>https://www.akgec.ac.in/mba-admission-2023-25/</td>\n",
       "      <td>MBA Admission 2023-25  MBA Admission 2023-25 M...</td>\n",
       "    </tr>\n",
       "  </tbody>\n",
       "</table>\n",
       "</div>"
      ],
      "text/plain": [
       "                                                 URL  \\\n",
       "0  https://www.akgec.ac.in/ieee-student-branch-ch...   \n",
       "1  https://www.akgec.ac.in/achievements/student-a...   \n",
       "2  https://www.akgec.ac.in/rd/fdps/#fdp-on-machin...   \n",
       "3  https://www.akgec.ac.in/departments/applied-sc...   \n",
       "4     https://www.akgec.ac.in/mba-admission-2023-25/   \n",
       "\n",
       "                                             Content  \n",
       "0  IEEE Student Branch Chapter  IEEE Student Bran...  \n",
       "1  ACHIEVEMENTS  Student Awards (Extra Curricular...  \n",
       "2  R&D  FDPs  FDPs FDP on Green Manufacturing The...  \n",
       "3  DEPARTMENTS  Applied Sciences & Humanities  Ap...  \n",
       "4  MBA Admission 2023-25  MBA Admission 2023-25 M...  "
      ]
     },
     "execution_count": 60,
     "metadata": {},
     "output_type": "execute_result"
    }
   ],
   "source": [
    "print(df.shape)\n",
    "df.head(5)"
   ]
  },
  {
   "cell_type": "code",
   "execution_count": 61,
   "metadata": {},
   "outputs": [],
   "source": [
    "df = df.drop('URL', axis=1)"
   ]
  },
  {
   "cell_type": "code",
   "execution_count": 62,
   "metadata": {},
   "outputs": [
    {
     "name": "stdout",
     "output_type": "stream",
     "text": [
      "                                               Content\n",
      "0    IEEE Student Branch Chapter  IEEE Student Bran...\n",
      "1    ACHIEVEMENTS  Student Awards (Extra Curricular...\n",
      "2    R&D  FDPs  FDPs FDP on Green Manufacturing The...\n",
      "3    DEPARTMENTS  Applied Sciences & Humanities  Ap...\n",
      "4    MBA Admission 2023-25  MBA Admission 2023-25 M...\n",
      "..                                                 ...\n",
      "540  R&D  R&D Research and Development AKGEC IDEA L...\n",
      "546     VECELL Upcoming Events  VECELL Upcoming Events\n",
      "558  ACHIEVEMENTS  Faculty Achievements  Faculty Ac...\n",
      "561  %PDF-1.5 % 4 0 obj << /Type /Page /Parent 2 0 ...\n",
      "566  NBA Accreditation  NBA Accreditation REGARDING...\n",
      "\n",
      "[150 rows x 1 columns]\n"
     ]
    }
   ],
   "source": [
    "print(df)"
   ]
  },
  {
   "cell_type": "code",
   "execution_count": 63,
   "metadata": {},
   "outputs": [],
   "source": [
    "df.to_csv(\"clean2.csv\")"
   ]
  }
 ],
 "metadata": {
  "kernelspec": {
   "display_name": "env",
   "language": "python",
   "name": "python3"
  },
  "language_info": {
   "codemirror_mode": {
    "name": "ipython",
    "version": 3
   },
   "file_extension": ".py",
   "mimetype": "text/x-python",
   "name": "python",
   "nbconvert_exporter": "python",
   "pygments_lexer": "ipython3",
   "version": "3.12.3"
  }
 },
 "nbformat": 4,
 "nbformat_minor": 2
}
